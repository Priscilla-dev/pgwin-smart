{
 "cells": [
  {
   "cell_type": "code",
   "execution_count": 1,
   "metadata": {},
   "outputs": [],
   "source": [
    "import pandas as pd\n",
    "import seaborn as sns\n",
    "import matplotlib.pyplot as plt\n",
    "import os"
   ]
  },
  {
   "cell_type": "code",
   "execution_count": 2,
   "metadata": {},
   "outputs": [],
   "source": [
    "guns=pd.read_csv(r'C:\\Users\\danie\\Desktop\\SLC\\SEMESTER 1\\ADMN5018\\FINAL PROJECT\\gun-violence-data_01-2013_03-2018.csv',)"
   ]
  },
  {
   "cell_type": "code",
   "execution_count": 3,
   "metadata": {},
   "outputs": [
    {
     "data": {
      "text/plain": [
       "239677"
      ]
     },
     "execution_count": 3,
     "metadata": {},
     "output_type": "execute_result"
    }
   ],
   "source": [
    "#There are 239677 instances of gun violence in this dataset\n",
    "guns['n_killed'].count()"
   ]
  },
  {
   "cell_type": "code",
   "execution_count": 4,
   "metadata": {},
   "outputs": [
    {
     "data": {
      "text/plain": [
       "60468"
      ]
     },
     "execution_count": 4,
     "metadata": {},
     "output_type": "execute_result"
    }
   ],
   "source": [
    "#In all of those instances there were 60468 people killed\n",
    "guns['n_killed'].sum()"
   ]
  },
  {
   "cell_type": "code",
   "execution_count": 5,
   "metadata": {},
   "outputs": [
    {
     "data": {
      "text/plain": [
       "192452.0"
      ]
     },
     "execution_count": 5,
     "metadata": {},
     "output_type": "execute_result"
    }
   ],
   "source": [
    "#In all of those instances there were 192452 guns involved\n",
    "guns['n_guns_involved'].sum()"
   ]
  },
  {
   "cell_type": "code",
   "execution_count": 6,
   "metadata": {},
   "outputs": [
    {
     "data": {
      "text/plain": [
       "<seaborn.axisgrid.FacetGrid at 0x28a73c05748>"
      ]
     },
     "execution_count": 6,
     "metadata": {},
     "output_type": "execute_result"
    },
    {
     "data": {
      "image/png": "[encoded data removed]",
      "text/plain": [
       "<Figure size 360x360 with 1 Axes>"
      ]
     },
     "metadata": {
      "needs_background": "light"
     },
     "output_type": "display_data"
    }
   ],
   "source": [
    "#This is the correct plot without skewed data\n",
    "sns.relplot(x='n_guns_involved',y='n_killed',data=guns)"
   ]
  },
  {
   "cell_type": "code",
   "execution_count": 7,
   "metadata": {},
   "outputs": [
    {
     "data": {
      "text/plain": [
       "29.473394755882"
      ]
     },
     "execution_count": 7,
     "metadata": {},
     "output_type": "execute_result"
    }
   ],
   "source": [
    "#This code calculates average age of participant\n",
    "age=pd.DataFrame(guns['participant_age'].str.split('\\\\|\\\\|',).explode())\n",
    "age['UD_age']=age['participant_age'].str.split('\\\\:\\\\:',expand=True)[1]\n",
    "age['UD_age']=pd.to_numeric(age['UD_age'])\n",
    "age['UD_age'].mean()"
   ]
  },
  {
   "cell_type": "code",
   "execution_count": 8,
   "metadata": {},
   "outputs": [
    {
     "data": {
      "text/plain": [
       "UD_agegroup\n",
       "Adult 18+     300616\n",
       "Child 0-11      4472\n",
       "Teen 12-17     25193\n",
       "Name: UD_agegroup, dtype: int64"
      ]
     },
     "execution_count": 8,
     "metadata": {},
     "output_type": "execute_result"
    }
   ],
   "source": [
    "#This code calculates participant age group breakdown\n",
    "agegroup=pd.DataFrame(guns['participant_age_group'].str.split('\\\\|\\\\|',).explode())\n",
    "agegroup['UD_agegroup']=agegroup['participant_age_group'].str.split('\\\\:\\\\:',expand=True)[1]\n",
    "agegroup.groupby('UD_agegroup')['UD_agegroup'].count()"
   ]
  },
  {
   "cell_type": "code",
   "execution_count": 9,
   "metadata": {},
   "outputs": [
    {
     "data": {
      "text/plain": [
       "UD_gender\n",
       "Female           42376\n",
       "Male            304102\n",
       "Male, female         1\n",
       "Name: UD_gender, dtype: int64"
      ]
     },
     "execution_count": 9,
     "metadata": {},
     "output_type": "execute_result"
    }
   ],
   "source": [
    "#This code calculates participant gender breakdown\n",
    "gender=pd.DataFrame(guns['participant_gender'].str.split('\\\\|\\\\|',).explode())\n",
    "gender['UD_gender']=gender['participant_gender'].str.split('\\\\:\\\\:',expand=True)[1]\n",
    "gender.groupby('UD_gender')['UD_gender'].count()"
   ]
  }
 ],
 "metadata": {
  "kernelspec": {
   "display_name": "Python 3",
   "language": "python",
   "name": "python3"
  },
  "language_info": {
   "codemirror_mode": {
    "name": "ipython",
    "version": 3
   },
   "file_extension": ".py",
   "mimetype": "text/x-python",
   "name": "python",
   "nbconvert_exporter": "python",
   "pygments_lexer": "ipython3",
   "version": "3.7.4"
  }
 },
 "nbformat": 4,
 "nbformat_minor": 2
}
